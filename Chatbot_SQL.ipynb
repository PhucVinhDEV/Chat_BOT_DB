{
  "nbformat": 4,
  "nbformat_minor": 0,
  "metadata": {
    "colab": {
      "provenance": [],
      "mount_file_id": "1Nd8rWx54HGT_wE7vBjMJHBzBaXYxrn-k",
      "authorship_tag": "ABX9TyP1LNp7W3wDKFqA+X3Z6wZh",
      "include_colab_link": true
    },
    "kernelspec": {
      "name": "python3",
      "display_name": "Python 3"
    },
    "language_info": {
      "name": "python"
    }
  },
  "cells": [
    {
      "cell_type": "markdown",
      "metadata": {
        "id": "view-in-github",
        "colab_type": "text"
      },
      "source": [
        "<a href=\"https://colab.research.google.com/github/PhucVinhDEV/Chat_BOT_DB/blob/main/Chatbot_SQL.ipynb\" target=\"_parent\"><img src=\"https://colab.research.google.com/assets/colab-badge.svg\" alt=\"Open In Colab\"/></a>"
      ]
    },
    {
      "cell_type": "code",
      "execution_count": 46,
      "metadata": {
        "id": "RkI1zYDAmnhN"
      },
      "outputs": [],
      "source": [
        "!pip install --upgrade --quiet langchain langchain-community langchain-openai chromadb gradio langchain-google-genai"
      ]
    },
    {
      "cell_type": "code",
      "source": [
        "sql_path= '/content/drive/MyDrive/ChatBot/products.db'"
      ],
      "metadata": {
        "id": "iSz0cTdDoCYS"
      },
      "execution_count": 47,
      "outputs": []
    },
    {
      "cell_type": "code",
      "source": [
        "import os\n",
        "import getpass\n",
        "\n",
        "os.environ['GOOGLE_API_KEY'] = getpass.getpass('Google API Key:')"
      ],
      "metadata": {
        "colab": {
          "base_uri": "https://localhost:8080/"
        },
        "id": "I-k_DhfcoKJi",
        "outputId": "110ca054-195c-4f74-98ba-882e8b8d487c"
      },
      "execution_count": 63,
      "outputs": [
        {
          "name": "stdout",
          "output_type": "stream",
          "text": [
            "Google API Key:··········\n"
          ]
        }
      ]
    },
    {
      "cell_type": "code",
      "source": [
        "from langchain_community.utilities import SQLDatabase\n",
        "\n",
        "db = SQLDatabase.from_uri(f\"sqlite:///{sql_path}\")\n",
        "\n",
        "print(db.dialect)\n",
        "print(db.get_usable_table_names())\n",
        "db.run(\"select * from products limit 10\")"
      ],
      "metadata": {
        "colab": {
          "base_uri": "https://localhost:8080/",
          "height": 157
        },
        "id": "wh4JQOOpoaF2",
        "outputId": "7a6cd17e-8c96-4f56-9c8b-80385d29649f"
      },
      "execution_count": 64,
      "outputs": [
        {
          "output_type": "stream",
          "name": "stdout",
          "text": [
            "sqlite\n",
            "['categories', 'products']\n"
          ]
        },
        {
          "output_type": "execute_result",
          "data": {
            "text/plain": [
              "\"[('hoanghamobile_626_2115_hoanghamobile.com', 'Ổ cắm điện thông minh chống giật Vconnex Smart Plug - Chính hãng', 'Ổ Cắm điện|Phụ kiện', 13, 603625.9, 96), ('lazadacps_476_903850875_lazada.vn', 'Nước hoa hồng Meishoku Bigansui Medicated Skin Lotion 200ml Nhật bản', 'Nước hoa hồng Meishoku Bigansui Medicated Skin Lotion 200ml Nhật BảnMeishoku Bigansui Medicated Skin Lotion 200ml - Là sản phẩm được sản xuất từ năm 1885 và cho đến ngày nay nó vẫn là một trong những sản phẩm trị mụn rất được phụ nữ Nhật Bản yêu thích và lựa chọn. Meishoku Bigansui Medicated...', 17, 747068.0, 42), ('lazadacps_476_6148238297_lazada.vn', 'Tã Quần Người Già Caryn Mỏng Nhẹ Chống Tràn Dành Cho Người Có Thể Đi Lại Được XL12', 'Tã Quần Người Lớn Caryn Mỏng Nhẹ Chống Tràn Dành Cho Người Già Có Thể Tự Đi Lại Được Tã quần mỏng nhẹ Caryn với thiết kế như quần lót, giúp người dùng dễ dàng tự mặc/thay tã và cho cảm giác thoải mái khi vận động. Sản phẩm phù hợp với những người gặp vấn đề về bài tiết nhưng vẫn có thể tự đi...', 18, 578628.89, 38), ('lazadacps_476_5725829562_lazada.vn', 'Bột Mặt Nạ Dẻo Ronas Modeling Mask dùng trong spa đủ loại Hàn Quốc', 'Ronas Modeling Mask 12 loạibột mặt nạ dẻo cao cấp Hàn Quốc 12 loại    Thương Hiệu: Ronas Xuất xứ: Hàn Quốc        Bột Mặt nạ dẻo hay còn gọi là bột mặt nạ thiên nhiên, không chứa chất bảo quản nên lành tính và an toàn cho mọi loại da, đặc biệt da nhạy cảm.  Với tính chất bột khô nên việc bảo...', 17, 1123653.6, 51), ('tuborg_shopee_322_7795471411_shopee.vn', 'sét bộ áo sơ mi đũi kèm lenging ngố', 'Sét bộ áo sơ mi đũi cao cấp kèm quần lenging ngố thần thánh nhé\\\\nSỉ 80k/sét\\\\nĐli 75k/sét\\\\nSét bộ áo sơ mi đũi cao cấp kèm quần lenging ngố thần thánh nhé\\\\nSỉ 80k/sét\\\\nĐli 75k/sét', 1, 747755.98, 16), ('tuborg_shopee_322_2490539863_shopee.vn', 'Bộ 6 Mô Hình Nhân Vật Phim Hoạt Hình Naruto cỡ vừa có 2 mẫu như ảnh (Khách hàng chat chọn mẫu)', 'Chất liệu: an toàn, không độc hai \\\\nCÔNG DỤNG\\\\n- Rèn luyện sự khéo léo, tỉ mỉ: Trong suốt quá trình mày mò lắp ráp, bé sẽ tập tính kiên trì, nhẫn nại.\\\\n- Kích thích tư duy sáng tạo: giúp bé luyện trí nhớ, tăng khả năng tư duy và phát triển trí não.\\\\n- Trò chơi giao lưu, kết bạn: Bé không chỉ chơi...', 20, 283363.64, 15), ('cavailles_shopee_322_11002862042_shopee.vn', 'Lắp ráp xếp hình 41313 XS 3010 :  bể bơi', 'Chất liệu: an toàn, không độc hai \\\\nCÔNG DỤNG\\\\n- Rèn luyện sự khéo léo, tỉ mỉ: Trong suốt quá trình mày mò lắp ráp, bé sẽ tập tính kiên trì, nhẫn nại.\\\\n- Kích thích tư duy sáng tạo: giúp bé luyện trí nhớ, tăng khả năng tư duy và phát triển trí não.\\\\n- Trò chơi giao lưu, kết bạn: Bé không chỉ chơi...', 20, 1215089.19, 13), ('lazadacps_476_3133126158_lazada.vn', 'Cao gắm (gói 200gram) - LV123', 'Tác dụng của cao gắm:- Cao gắm có các tác dụng chính sau:- Đ, iều tr ị bệnVh Gout (gút)- Giảm sưng đau ở những bện.h nhân mắc gút- Đi.ều t rị bệ.nh đau nhức xương khớp- Điề u tr ị bệ nh phong tê thấp..........Đối tượng sử dụng cao gắm- Người b.ệnh gút- Người bện.h phong tê thấp- Người già bị đau...', 18, 1360915.01, 64), ('waterpush_shopee_pub_322_7551724109_shopee.vn', 'quần bò ngố💖FREESHIP💖quần đùi bò rách phong cách hàn quốc HANHOI221', 'quần đùi bò\\\\nLƯU Ý: Để chọn nhiều màu khác nhau các bạn tiến hành thêm 1 màu thứ nhất vào giỏ hàng sau đó đừng ấn mua ngay mà hãy bấm thoát ra, sau đó tiếp tục thêm những màu khác vào giỏ hàng, khi nào đủ rồi thì hãy bấm mua ngay là được nha.\\\\n\\\\nCÁCH CHỌN SIZE\\\\nquần đùi bò SIZE 28: 45 - 50Kg\\\\nquần...', 1, 196669.17, 67), ('lazadacps_476_4491684835_lazada.vn', '[HCM]1 BỊCH THUN CỘT TÓC ĐEN VÀ NHIỀU MÀU 30G', 'Túi thun cột tóc đàn hồi đa năng xinh xắn nhiều màu sắc kẹo ngọt tiện lợi cho bé yêu mang đi học, làm điệu với mọi kiểu tóc khi đi học, đi chơi, đi tiệc…Chất liệu: Nhựa dày, đàn hồi tốt, có thể sử dụng nhiều lần – Nhiều màu sắc vui nhộnTrọng lượng: 30g', 3, 262981.46, 97)]\""
            ],
            "application/vnd.google.colaboratory.intrinsic+json": {
              "type": "string"
            }
          },
          "metadata": {},
          "execution_count": 64
        }
      ]
    },
    {
      "cell_type": "code",
      "source": [
        "from langchain_community.agent_toolkits import create_sql_agent\n",
        "from langchain_google_genai import ChatGoogleGenerativeAI\n",
        "\n",
        "llm = ChatGoogleGenerativeAI(model=\"gemini-2.0-flash-001\", temperature=0)"
      ],
      "metadata": {
        "id": "bHLZbkGxrPd4"
      },
      "execution_count": 65,
      "outputs": []
    },
    {
      "cell_type": "markdown",
      "source": [
        "## Few shot\n"
      ],
      "metadata": {
        "id": "7YVP8tycrth6"
      }
    },
    {
      "cell_type": "markdown",
      "source": [
        "**Example Query**"
      ],
      "metadata": {
        "id": "euYJGWoRr4bT"
      }
    },
    {
      "cell_type": "code",
      "source": [
        "examples = [\n",
        "    {\n",
        "        \"input\" : \"Danh mục sản phẩm có những gì\",\n",
        "        \"query\" : \"\"\"\n",
        "          select id,name from categories\n",
        "        \"\"\"\n",
        "    }\n",
        "]"
      ],
      "metadata": {
        "id": "uEAvNIADr0hH"
      },
      "execution_count": 66,
      "outputs": []
    },
    {
      "cell_type": "code",
      "source": [
        "from langchain.embeddings import HuggingFaceEmbeddings\n",
        "\n",
        "# 2. Khởi tạo mô hình embedding miễn phí từ HuggingFace\n",
        "\n",
        "embedding = HuggingFaceEmbeddings(model_name=\"all-MiniLM-L6-v2\")\n"
      ],
      "metadata": {
        "id": "Z0-8aEuUv19D"
      },
      "execution_count": 67,
      "outputs": []
    },
    {
      "cell_type": "code",
      "source": [
        "from langchain_community.vectorstores import Chroma\n",
        "from langchain_core.example_selectors import SemanticSimilarityExampleSelector\n",
        "\n",
        "# 3. Tạo example selector\n",
        "example_selector = SemanticSimilarityExampleSelector.from_examples(\n",
        "    examples=examples,\n",
        "    embeddings=embedding,  # ✅ đúng tên tham số\n",
        "    vectorstore_cls=Chroma,\n",
        "    k=1,\n",
        "    input_keys=['input'],\n",
        ")"
      ],
      "metadata": {
        "id": "OOsDrBVusZpe"
      },
      "execution_count": 68,
      "outputs": []
    },
    {
      "cell_type": "code",
      "source": [
        "example_selector.select_examples({\"input\" : \"Sản phẩm nào dưới 300 nghìn\"})"
      ],
      "metadata": {
        "id": "2Z4TyynQsoVe",
        "colab": {
          "base_uri": "https://localhost:8080/"
        },
        "outputId": "2cbc63de-e379-4145-b6ba-6d5a7081b18d"
      },
      "execution_count": 69,
      "outputs": [
        {
          "output_type": "execute_result",
          "data": {
            "text/plain": [
              "[{'query': '\\n          select id,name from categories\\n        ',\n",
              "  'input': 'Danh mục sản phẩm có những gì'}]"
            ]
          },
          "metadata": {},
          "execution_count": 69
        }
      ]
    },
    {
      "cell_type": "markdown",
      "source": [
        "## Correct productName\n"
      ],
      "metadata": {
        "id": "87Mys4h8w0O2"
      }
    },
    {
      "cell_type": "code",
      "source": [
        "from langchain.agents.agent_toolkits import create_retriever_tool"
      ],
      "metadata": {
        "id": "6LvH6PrHw6lA"
      },
      "execution_count": 70,
      "outputs": []
    },
    {
      "cell_type": "code",
      "source": [
        "import ast\n",
        "\n",
        "\n",
        "def query_as_list(db, query):\n",
        "  res = db.run(query)\n",
        "  res = [el for sub in ast.literal_eval(res) for el in sub if el]\n",
        "  return list(set(res))\n",
        "\n",
        "product = query_as_list(db, \"select name from products\") + query_as_list(db, \"select name from categories\")\n",
        "print(product[:-10])"
      ],
      "metadata": {
        "colab": {
          "base_uri": "https://localhost:8080/"
        },
        "id": "cXdiGrZB1Lpr",
        "outputId": "12f7cfde-a8d4-49be-e003-39a4138f09ad"
      },
      "execution_count": 71,
      "outputs": [
        {
          "output_type": "stream",
          "name": "stdout",
          "text": [
            "['[Mã TOYDEC hoàn 20K xu đơn 50K] Lăp ráp xếp hình Lego city 23002 : xe cần cẩu móc master builder 465 mảnh', 'Loa Soundmax A140 2.0 Bạc - Thiết kế nhỏ gọn, năng động - Hàng chính hãng', 'Áo Thun In Chữ TĂNG HIGH TĂNG BAR KHÔNG TĂNG CA Meme Hài Hước Unisex Nam Nữ UT', 'Giày lười da nam công sợ Bụi Leather G121 - Da bò Nappa cao cấp - 40 - Màu đen  Bộ vệ sinh', 'muối sữa spa bonne', 'Trục giảm tốc HONDA Sh 125 / 150 (2012-2016)  QA(23430KZR600)', 'Dây ga SH 125/150  QA(17910K01901) _( 6B 3A)', 'Nước hoa hồng Meishoku Bigansui Medicated Skin Lotion 200ml Nhật bản', 'Nắp đậy nhôm pô tăng xe đạp PRO S-WORKS ENVE ZIPP KOCEVLO RITCHEY (7 Màu)', 'Đèn bàn khử trùng Philips UV-C', 'Tã Quần Người Già Caryn Mỏng Nhẹ Chống Tràn Dành Cho Người Có Thể Đi Lại Được XL12', 'Ổ cắm điện thông minh chống giật Vconnex Smart Plug - Chính hãng', '❤️[Tóc Giả Loại 1] ❤️- Tóc Cả Đầu Layer Trending', 'FREE SHIP DÂY CHUYỀN NỮ ĐANG SIÊU HÓT BẠC TA', 'Bộ đồ bầu ngố mặc nhà chất lanh mát mùa hè nhiều vân', 'Bộ 2 cút nối chữ T 12 13mm Gardena 08329-20', 'CHỔI CƯỚC ĐA NĂNG, CÓ GẮN GẠT NƯỚC CAO SU', '[HCM]Sale 50% - Sơn Móng Tay Opi (NLE08)', 'Camera IP Wifi IPC-A22EP-IMOU Chuẩn 1080P- Chính Hãng', 'Xà Bông Thiên Nhiên Hạt Mùi Già Cỏ Mềm An Toàn Lành Da Quà Tết Độc Đáo Hương Thơm Tất Niên Hoàn Toàn Từ Thiên Nhiên 90g', 'Lắp ráp xếp hình Brick Headz Minecraft nhân vật Steve và Creeper 6601', '[HCM]Keo Gắn Móng Giả MXBon', 'GEL DẠ DÀY MINH KHANG - (Hộp 20 gói 10ml) - TẠM BIỆT Ợ HƠI Ợ CHUA TRÀO NGƯỢC VIÊM DẠ DÀY VI KHUẨN HP', 'Larita Soly AH0924_20 S Blue', 'Lắp Ráp xếp hình Lego Jurassic World Dinosaur 98118 : 4 mẫu khủng long cánh', 'Bộ quần áo thể thao đi xe đạp SOUDAL LOTTO', 'Thước thăm dầu HONDA Futurre 125 / Future 125 Fi  QA(15651KVLN00) _( 1525)', '[HCM]XÀ PHÒNG KÍCH TRẮNG THÁI LAN combo 12 bánh - HÀNG CHÍNH HÃNG', 'quần bò ngố💖FREESHIP💖quần đùi bò rách phong cách hàn quốc HANHOI221', 'Áo khoác gió đi xe đạp ROCKBROS', 'Bộ đồ bầu mặc nhà bộ đồ bầu đùi mùa hè áo pha sọc trẻ trung', 'Balo nam vải canvas cao cấp phong cách mới 15,6 - Màu đen', 'Túi KT size 20cm hàng fullbox ảnh thật Shop Hằng Ớt tự chụp', 'Bộ quần áo bóng đá cho bé không logo Bulbal Kid Zenith- ViKi Sport', 'Bờm Tóc Tiểu Thư Vải Voan Dễ Thương, Nhiều Màu Siêu Hot - Mincloset', ' Giày nữ thời trang ELLY - EG229 ', 'Bột Mặt Nạ Dẻo Ronas Modeling Mask dùng trong spa đủ loại Hàn Quốc', 'Bộ 6 Mô Hình Nhân Vật Phim Hoạt Hình Naruto cỡ vừa có 2 mẫu như ảnh (Khách hàng chat chọn mẫu)', 'Chân Váy Rút Dây 2 Bên Siêu Hot', '[HCM]Sữa dưỡng thể Vaseline Healthy White trắng da tức thì 200ml', 'áo thu cổ v chất len', 'Lắp ráp xếp hình 41313 XS 3010 :  bể bơi', 'Cường lực Mipow Kingbull Full HD for iPhone 11', 'Trục số thứ cấp HONDA Pcx 125  QA(23421K96V01)', 'Cùm công tắc trái khởi động HONDA Wave Alpha / ALPHA +  QA(35150KRS860)', 'Ốp Lưng Xiaomi Redmi note 8 Redmi Note 9 F044', 'Pin sạc Ver 3 Kingma cho Canon LP-E12 Sạc Type C siêu nhanh, Hàng chính hãng - Combo 1 2 pin 1 sạc đôi', '[HCM]Combo 2 hộp tăm trăng dâu Zoley + son dưỡng môi', 'ÁO NGỰC BẦU TRƯỚC VÀ SAU SINH HÀNG THÁI', 'Bộ quần áo bóng rổ cho bé từ 5 đến 14 tuổi, Vải mè thoáng mát JP01- ViKi Sport', 'Áo Phông Icon Nam Phối Khóa Chéo Siêu Đẹp - Áo DSQ Icon Nam Mix Khọa Độc Lạ hottrend 2024', 'Ram Laptop G.Skill Ripjaws DDR4 16GB 3200MHz 1.2v F4-3200C22S-16GRS', '[HCM]Dầu cá - Nature Made Fish Oil 1200mg - 360mg OMEGA 3', 'Đồ Lam Đi Chùa  Tim 3NÚT  Đồ Bộ Nữ  Quần Áo Nữ - Lam,Size 1- 45kí Trở Lại', 'Thủy Xa Quán', '5 cặp lông mi giả dày và dài Natural & Soft Eyelash (số 05)', 'DÉP QUAI NGANG NAM DA BÒ 100, QUAI CÁ SẤU SẮC NÉT - Đen - 41', 'Đĩa phanh thắng xe đạp IIIPRO 160mm - 1 Cái', '[HCM]TẨY TẾ BÀO CHẾT 3W CLINIC COLLAGEN', ' Giày nữ thời trang ELLY - EG218 ', 'Bài Tập Tiếng Anh 9 Tập 1 - Có Đáp Án Theo Chương Trình Mới Của Bộ GD&amp;ĐT', 'Đèn tường OLAP cổ điển trang trí nội, ngoại thất tăng thêm sự sang trọng cho không gian nhà ở, quán cafe', '[HCM]Hộp Đựng Bút Để Bàn Xoay Được Đa Năng Cho Học Sinh Kệ Để Đồ Văn Phòng Phẩm Khay Đựng Đồ Cá Nhân Kiểu Dáng Dễ Thương', \"Dầu tra sên, xích, líp xe đạp Wolf's 50ml - Hàng chính hãng có hộp\", 'Giá pas gắn đồng hồ xe đạp cho Garmin, CYCPLUS Z1 - Nhãn hiệu CYCPLUS', 'Tui Công Sở', '[HCM]1 BỊCH THUN CỘT TÓC ĐEN VÀ NHIỀU MÀU 30G', 'ASUS TUF Gaming A15 FA507NU-LP131W', 'SPERMQ tăng cường skss nam giới h30v', 'Cánh yếm phải (Nhb55P) HONDA Wave anpha 100  QA(64430KTL640YA)', 'Bộ tay quay, củ quay giàn phơi thông minh - Hợp kim nhôm chống gỉ - Hàng chính hãng NIKITA 2024 - 668', '[HCM]Bảng 10 Màu Phấn Mắt Play Color Eyeshadow Phiên Bản Hoa Anh Đào Hót Trend 2019', 'Cuvet thạch anh 10x10x45mm', '[GIÁ HẠT RẺ] YẾM VÁY DÁNG THỤNG ULLAZANG - YẾM DÀI HÀN QUỐC', ' Giày nữ thời trang cao cấp ELLY – EG173 ', 'HUAWEI MateBook D 14 BE', '[HCM]Tóc giả nữ Hàn Quốc + Tặng kèm lưới TN523', 'Bộ Đèn Pha Trước Xe Đạp Có Sạc USB Siêu Sáng Cao Cấp Chống Nước và Đèn Hậu Phía Sau Dành Cho Xe Đạp Địa Hình, Xe Đạp Thể Thao Giúp Đạp Xe An Toàn Ban Đêm - Hàng Chính Hãng', 'Nhập WAMS135 hoàn 25k xu đơn 150k_ ÁO POLO CHỮ THÊU PHỐI KHOÁ CỔ SIÊU CHẤT kèm ảnh thật + video', 'Miếng thay thế cây lau nhà tự vắt (12x32 cm) Bông lau nhà hình chữ nhật', 'Bột baking soda', 'Sỉ 1 Hộp 18 Gói Kẹo Sữa Bò Non Viên Nén (gói 250gr)', 'sét bộ áo sơ mi đũi kèm lenging ngố', 'Túi xách da bò công sở cao cấp phong cách châu âu TX7602', 'Nguyên Lốc 12 Cục Xà Phòng Cam Nghệ Galong Herbal Thái Lan', 'CAMERA WIFI IMOU PTZ NGOÀI TRỜI S22FP 2M FULL COLOR XOAY 360 ĐỘ ĐÀM THOẠI 2 CHIỀU, CÓ MÀU BAN ĐÊM - HÀNG CHÍNH HÃNG - Camera  Thẻ Nhớ 64G', 'ASUS Vivobook 15 OLED A1505VA-L1201W', 'Lắp ráp xếp hình lego minecraft my world 1027C: Rồng ender và ender man (ảnh thật)', 'Bộ Nồi Inox 430 Bếp Từ 3 Đáy 3 Món Nắp Kính Fivestar Tặng 2 Muỗng Canh', 'Tất cổ cao, vớ cổ cao nữ màu đen vải cotton co giãn thời trang Hàn Quốc TC129 - VHT SHOP', 'Chú Bé Mang Pyjama Sọc', 'Cây mực (phèn đen) - 1kg khô -TD206', 'Túi Tote chần ô size 35cm', 'Cao gắm (gói 200gram) - LV123', 'Nuôi Dạy Trẻ Con Mình Chẳng Lẽ Lại Vứt  Thế Bây Giờ Mẹ Muốn Cái Giề ComboTùy Chọn 2 Cuốn - Bản Quyền - Comb 2 Cuốn, Comb 2 Cuốn', 'Bong Bóng Lên Trời 2022', 'Set Quần Áo Bóng Rổ Camo Đỏ Cho Bé Từ 5 Đến 14 Tuổi Vải Mè Thoáng Mát', 'Song Ngữ Việt - Anh - Diary Of A Wimpy Kid - Nhật Ký Chú Bé Nhút Nhát - Tập 14 Của Thiên Trả Địa - Wrecking Ball', 'Dép Nữ Da Bò BIGGBEN Cao Cấp DNQN32 - Kem  - 39', 'Lắp ráp xếp hình Lego Star Wars 75089 sy503: Cuộc chiến không gian (Khách chat chọn mẫu)', 'sữa tắm gội toàn thân Babi Mild 200ml', 'Filter Kính lọc UV Marumi 37-82cm, Chính hãng - 82cm', 'Giày Đi Bộ Nữ Bitis Hunter Jogging Soft Pink DSWH05300HOG HOG - 40', 'Khuôn siicon quả dứa quả dâu nhỏ vỉ 3 quả trong khuôn dài', 'Sữa Rửa Mặt Cerave Cleanser - Huna Cosmetics', 'Khóa chốt yên nhanh xe đạp GUB CX-18 31.8mm', ' Túi clutch nữ cao cấp da thật ELLY – EC61 - Đen ', 'Áo Thun Nam Cổ Bẻ, Áo thun nam có cổ thun cotton 4 Chiều Cao Cấp, Trẻ Trung thương hiệu Doka Nhiều Màu PSDB01 - Xanh dương - XXL', 'Túi Chữ L râu tua rua', 'Có Anh, Em Không Cô Đơn - Giao Ngẫu Nhiên', 'Ốp Lưng Oppo f1s A83 A39 A7 A5s F7 F9 A5 A3s A71 F11 Pro A1k A9 2020 Reno 3 4 5 6 6z 7 7z 8 8z A31 A91 F5 - l006', 'Tay cầm xe đạp TPR thiết kế cao su với vỏ bọc chống sốc cho xe MTB địa hình phi 2.2cm SZ-060 Mai Lee', 'Bộ ốp cốp trái Future (màu R313C)  QA(64850KVLV30ZA)', 'Sét áo phông đàn vịt + quần kẻ♥️ Sét bộ dồ nam nữ unisex Freesize dưới 55kg ♥️ phong cách hàn quốc giá rẻ', 'Móng HSM Lẻ Size #5#6#7#8#9', 'Son kem ZUK Chất son mịn miên man luôn  lì xĩu', 'Hộp 100 găng tay, bao tay Victoria Bay chất liệu TPE siêu dai an toàn tiện lợi', 'Lắp Ráp Xếp Hìnhxe tank 9007', 'Máy Lọc Không Khí Mini Sử Dụng Lõi Lọc HEPA Than Hoạt Tính, Khử Mùi, Lọc Bụi Mịn PM2.5 Dùng Cho Diện Tích 30-50m2', 'Bông tai cỏ 4 lá bạc ta đá 10mm lên tai siêu xinh', 'Pijama Thun Tăm Hình Gấu Tay Dài', '[ HÀNG MỸ] HỘP 30 VIÊN Pomulus – Trung hòa và giải trừ các gốc tự do các chất oxy hóa các chất độc và các chất sinh ung thư. Tăng cường sức mạnh của hệ miễn dịch chống lại các bệnh nhiễm khuẩn', 'Giày Dép Nam', 'Thời Trang Nữ', 'Balo & Túi Ví Nam', 'Thời Trang Trẻ Em', 'Đồ Chơi', 'Phụ Kiện & Trang Sức Nữ', 'Thiết Bị Điện Tử', 'Túi Ví Nữ', 'Điện Thoại & Phụ Kiện', 'Nhà Cửa & Đời Sống', 'Sức Khỏe', 'Xe Máy', 'Bách Hóa Online', 'Mẹ & Bé', 'Giày Dép Nữ']\n"
          ]
        }
      ]
    },
    {
      "cell_type": "markdown",
      "source": [
        "## Correct Product Name"
      ],
      "metadata": {
        "id": "_EtnMgzCMbEw"
      }
    },
    {
      "cell_type": "code",
      "source": [
        "from langchain.agents.agent_toolkits import create_retriever_tool"
      ],
      "metadata": {
        "id": "3RuEsOS0McK1"
      },
      "execution_count": 72,
      "outputs": []
    },
    {
      "cell_type": "markdown",
      "source": [],
      "metadata": {
        "id": "aEDLLJu85BHG"
      }
    },
    {
      "cell_type": "code",
      "source": [
        "import ast\n",
        "\n",
        "def query_as_list(db, query):\n",
        "    res = db.run(query)\n",
        "    res = [el for sub in ast.literal_eval(res) for el in sub if el]\n",
        "    return list(set(res))\n",
        "\n",
        "product = query_as_list(db, \"select name from products\") + query_as_list(db, \"select name from categories\")\n",
        "print(product[:-10])"
      ],
      "metadata": {
        "colab": {
          "base_uri": "https://localhost:8080/"
        },
        "id": "NRFcLw5UM6LI",
        "outputId": "20be610d-4e13-40d8-fcae-a940e40d2af5"
      },
      "execution_count": 73,
      "outputs": [
        {
          "output_type": "stream",
          "name": "stdout",
          "text": [
            "['[Mã TOYDEC hoàn 20K xu đơn 50K] Lăp ráp xếp hình Lego city 23002 : xe cần cẩu móc master builder 465 mảnh', 'Loa Soundmax A140 2.0 Bạc - Thiết kế nhỏ gọn, năng động - Hàng chính hãng', 'Áo Thun In Chữ TĂNG HIGH TĂNG BAR KHÔNG TĂNG CA Meme Hài Hước Unisex Nam Nữ UT', 'Giày lười da nam công sợ Bụi Leather G121 - Da bò Nappa cao cấp - 40 - Màu đen  Bộ vệ sinh', 'muối sữa spa bonne', 'Trục giảm tốc HONDA Sh 125 / 150 (2012-2016)  QA(23430KZR600)', 'Dây ga SH 125/150  QA(17910K01901) _( 6B 3A)', 'Nước hoa hồng Meishoku Bigansui Medicated Skin Lotion 200ml Nhật bản', 'Nắp đậy nhôm pô tăng xe đạp PRO S-WORKS ENVE ZIPP KOCEVLO RITCHEY (7 Màu)', 'Đèn bàn khử trùng Philips UV-C', 'Tã Quần Người Già Caryn Mỏng Nhẹ Chống Tràn Dành Cho Người Có Thể Đi Lại Được XL12', 'Ổ cắm điện thông minh chống giật Vconnex Smart Plug - Chính hãng', '❤️[Tóc Giả Loại 1] ❤️- Tóc Cả Đầu Layer Trending', 'FREE SHIP DÂY CHUYỀN NỮ ĐANG SIÊU HÓT BẠC TA', 'Bộ đồ bầu ngố mặc nhà chất lanh mát mùa hè nhiều vân', 'Bộ 2 cút nối chữ T 12 13mm Gardena 08329-20', 'CHỔI CƯỚC ĐA NĂNG, CÓ GẮN GẠT NƯỚC CAO SU', '[HCM]Sale 50% - Sơn Móng Tay Opi (NLE08)', 'Camera IP Wifi IPC-A22EP-IMOU Chuẩn 1080P- Chính Hãng', 'Xà Bông Thiên Nhiên Hạt Mùi Già Cỏ Mềm An Toàn Lành Da Quà Tết Độc Đáo Hương Thơm Tất Niên Hoàn Toàn Từ Thiên Nhiên 90g', 'Lắp ráp xếp hình Brick Headz Minecraft nhân vật Steve và Creeper 6601', '[HCM]Keo Gắn Móng Giả MXBon', 'GEL DẠ DÀY MINH KHANG - (Hộp 20 gói 10ml) - TẠM BIỆT Ợ HƠI Ợ CHUA TRÀO NGƯỢC VIÊM DẠ DÀY VI KHUẨN HP', 'Larita Soly AH0924_20 S Blue', 'Lắp Ráp xếp hình Lego Jurassic World Dinosaur 98118 : 4 mẫu khủng long cánh', 'Bộ quần áo thể thao đi xe đạp SOUDAL LOTTO', 'Thước thăm dầu HONDA Futurre 125 / Future 125 Fi  QA(15651KVLN00) _( 1525)', '[HCM]XÀ PHÒNG KÍCH TRẮNG THÁI LAN combo 12 bánh - HÀNG CHÍNH HÃNG', 'quần bò ngố💖FREESHIP💖quần đùi bò rách phong cách hàn quốc HANHOI221', 'Áo khoác gió đi xe đạp ROCKBROS', 'Bộ đồ bầu mặc nhà bộ đồ bầu đùi mùa hè áo pha sọc trẻ trung', 'Balo nam vải canvas cao cấp phong cách mới 15,6 - Màu đen', 'Túi KT size 20cm hàng fullbox ảnh thật Shop Hằng Ớt tự chụp', 'Bộ quần áo bóng đá cho bé không logo Bulbal Kid Zenith- ViKi Sport', 'Bờm Tóc Tiểu Thư Vải Voan Dễ Thương, Nhiều Màu Siêu Hot - Mincloset', ' Giày nữ thời trang ELLY - EG229 ', 'Bột Mặt Nạ Dẻo Ronas Modeling Mask dùng trong spa đủ loại Hàn Quốc', 'Bộ 6 Mô Hình Nhân Vật Phim Hoạt Hình Naruto cỡ vừa có 2 mẫu như ảnh (Khách hàng chat chọn mẫu)', 'Chân Váy Rút Dây 2 Bên Siêu Hot', '[HCM]Sữa dưỡng thể Vaseline Healthy White trắng da tức thì 200ml', 'áo thu cổ v chất len', 'Lắp ráp xếp hình 41313 XS 3010 :  bể bơi', 'Cường lực Mipow Kingbull Full HD for iPhone 11', 'Trục số thứ cấp HONDA Pcx 125  QA(23421K96V01)', 'Cùm công tắc trái khởi động HONDA Wave Alpha / ALPHA +  QA(35150KRS860)', 'Ốp Lưng Xiaomi Redmi note 8 Redmi Note 9 F044', 'Pin sạc Ver 3 Kingma cho Canon LP-E12 Sạc Type C siêu nhanh, Hàng chính hãng - Combo 1 2 pin 1 sạc đôi', '[HCM]Combo 2 hộp tăm trăng dâu Zoley + son dưỡng môi', 'ÁO NGỰC BẦU TRƯỚC VÀ SAU SINH HÀNG THÁI', 'Bộ quần áo bóng rổ cho bé từ 5 đến 14 tuổi, Vải mè thoáng mát JP01- ViKi Sport', 'Áo Phông Icon Nam Phối Khóa Chéo Siêu Đẹp - Áo DSQ Icon Nam Mix Khọa Độc Lạ hottrend 2024', 'Ram Laptop G.Skill Ripjaws DDR4 16GB 3200MHz 1.2v F4-3200C22S-16GRS', '[HCM]Dầu cá - Nature Made Fish Oil 1200mg - 360mg OMEGA 3', 'Đồ Lam Đi Chùa  Tim 3NÚT  Đồ Bộ Nữ  Quần Áo Nữ - Lam,Size 1- 45kí Trở Lại', 'Thủy Xa Quán', '5 cặp lông mi giả dày và dài Natural & Soft Eyelash (số 05)', 'DÉP QUAI NGANG NAM DA BÒ 100, QUAI CÁ SẤU SẮC NÉT - Đen - 41', 'Đĩa phanh thắng xe đạp IIIPRO 160mm - 1 Cái', '[HCM]TẨY TẾ BÀO CHẾT 3W CLINIC COLLAGEN', ' Giày nữ thời trang ELLY - EG218 ', 'Bài Tập Tiếng Anh 9 Tập 1 - Có Đáp Án Theo Chương Trình Mới Của Bộ GD&amp;ĐT', 'Đèn tường OLAP cổ điển trang trí nội, ngoại thất tăng thêm sự sang trọng cho không gian nhà ở, quán cafe', '[HCM]Hộp Đựng Bút Để Bàn Xoay Được Đa Năng Cho Học Sinh Kệ Để Đồ Văn Phòng Phẩm Khay Đựng Đồ Cá Nhân Kiểu Dáng Dễ Thương', \"Dầu tra sên, xích, líp xe đạp Wolf's 50ml - Hàng chính hãng có hộp\", 'Giá pas gắn đồng hồ xe đạp cho Garmin, CYCPLUS Z1 - Nhãn hiệu CYCPLUS', 'Tui Công Sở', '[HCM]1 BỊCH THUN CỘT TÓC ĐEN VÀ NHIỀU MÀU 30G', 'ASUS TUF Gaming A15 FA507NU-LP131W', 'SPERMQ tăng cường skss nam giới h30v', 'Cánh yếm phải (Nhb55P) HONDA Wave anpha 100  QA(64430KTL640YA)', 'Bộ tay quay, củ quay giàn phơi thông minh - Hợp kim nhôm chống gỉ - Hàng chính hãng NIKITA 2024 - 668', '[HCM]Bảng 10 Màu Phấn Mắt Play Color Eyeshadow Phiên Bản Hoa Anh Đào Hót Trend 2019', 'Cuvet thạch anh 10x10x45mm', '[GIÁ HẠT RẺ] YẾM VÁY DÁNG THỤNG ULLAZANG - YẾM DÀI HÀN QUỐC', ' Giày nữ thời trang cao cấp ELLY – EG173 ', 'HUAWEI MateBook D 14 BE', '[HCM]Tóc giả nữ Hàn Quốc + Tặng kèm lưới TN523', 'Bộ Đèn Pha Trước Xe Đạp Có Sạc USB Siêu Sáng Cao Cấp Chống Nước và Đèn Hậu Phía Sau Dành Cho Xe Đạp Địa Hình, Xe Đạp Thể Thao Giúp Đạp Xe An Toàn Ban Đêm - Hàng Chính Hãng', 'Nhập WAMS135 hoàn 25k xu đơn 150k_ ÁO POLO CHỮ THÊU PHỐI KHOÁ CỔ SIÊU CHẤT kèm ảnh thật + video', 'Miếng thay thế cây lau nhà tự vắt (12x32 cm) Bông lau nhà hình chữ nhật', 'Bột baking soda', 'Sỉ 1 Hộp 18 Gói Kẹo Sữa Bò Non Viên Nén (gói 250gr)', 'sét bộ áo sơ mi đũi kèm lenging ngố', 'Túi xách da bò công sở cao cấp phong cách châu âu TX7602', 'Nguyên Lốc 12 Cục Xà Phòng Cam Nghệ Galong Herbal Thái Lan', 'CAMERA WIFI IMOU PTZ NGOÀI TRỜI S22FP 2M FULL COLOR XOAY 360 ĐỘ ĐÀM THOẠI 2 CHIỀU, CÓ MÀU BAN ĐÊM - HÀNG CHÍNH HÃNG - Camera  Thẻ Nhớ 64G', 'ASUS Vivobook 15 OLED A1505VA-L1201W', 'Lắp ráp xếp hình lego minecraft my world 1027C: Rồng ender và ender man (ảnh thật)', 'Bộ Nồi Inox 430 Bếp Từ 3 Đáy 3 Món Nắp Kính Fivestar Tặng 2 Muỗng Canh', 'Tất cổ cao, vớ cổ cao nữ màu đen vải cotton co giãn thời trang Hàn Quốc TC129 - VHT SHOP', 'Chú Bé Mang Pyjama Sọc', 'Cây mực (phèn đen) - 1kg khô -TD206', 'Túi Tote chần ô size 35cm', 'Cao gắm (gói 200gram) - LV123', 'Nuôi Dạy Trẻ Con Mình Chẳng Lẽ Lại Vứt  Thế Bây Giờ Mẹ Muốn Cái Giề ComboTùy Chọn 2 Cuốn - Bản Quyền - Comb 2 Cuốn, Comb 2 Cuốn', 'Bong Bóng Lên Trời 2022', 'Set Quần Áo Bóng Rổ Camo Đỏ Cho Bé Từ 5 Đến 14 Tuổi Vải Mè Thoáng Mát', 'Song Ngữ Việt - Anh - Diary Of A Wimpy Kid - Nhật Ký Chú Bé Nhút Nhát - Tập 14 Của Thiên Trả Địa - Wrecking Ball', 'Dép Nữ Da Bò BIGGBEN Cao Cấp DNQN32 - Kem  - 39', 'Lắp ráp xếp hình Lego Star Wars 75089 sy503: Cuộc chiến không gian (Khách chat chọn mẫu)', 'sữa tắm gội toàn thân Babi Mild 200ml', 'Filter Kính lọc UV Marumi 37-82cm, Chính hãng - 82cm', 'Giày Đi Bộ Nữ Bitis Hunter Jogging Soft Pink DSWH05300HOG HOG - 40', 'Khuôn siicon quả dứa quả dâu nhỏ vỉ 3 quả trong khuôn dài', 'Sữa Rửa Mặt Cerave Cleanser - Huna Cosmetics', 'Khóa chốt yên nhanh xe đạp GUB CX-18 31.8mm', ' Túi clutch nữ cao cấp da thật ELLY – EC61 - Đen ', 'Áo Thun Nam Cổ Bẻ, Áo thun nam có cổ thun cotton 4 Chiều Cao Cấp, Trẻ Trung thương hiệu Doka Nhiều Màu PSDB01 - Xanh dương - XXL', 'Túi Chữ L râu tua rua', 'Có Anh, Em Không Cô Đơn - Giao Ngẫu Nhiên', 'Ốp Lưng Oppo f1s A83 A39 A7 A5s F7 F9 A5 A3s A71 F11 Pro A1k A9 2020 Reno 3 4 5 6 6z 7 7z 8 8z A31 A91 F5 - l006', 'Tay cầm xe đạp TPR thiết kế cao su với vỏ bọc chống sốc cho xe MTB địa hình phi 2.2cm SZ-060 Mai Lee', 'Bộ ốp cốp trái Future (màu R313C)  QA(64850KVLV30ZA)', 'Sét áo phông đàn vịt + quần kẻ♥️ Sét bộ dồ nam nữ unisex Freesize dưới 55kg ♥️ phong cách hàn quốc giá rẻ', 'Móng HSM Lẻ Size #5#6#7#8#9', 'Son kem ZUK Chất son mịn miên man luôn  lì xĩu', 'Hộp 100 găng tay, bao tay Victoria Bay chất liệu TPE siêu dai an toàn tiện lợi', 'Lắp Ráp Xếp Hìnhxe tank 9007', 'Máy Lọc Không Khí Mini Sử Dụng Lõi Lọc HEPA Than Hoạt Tính, Khử Mùi, Lọc Bụi Mịn PM2.5 Dùng Cho Diện Tích 30-50m2', 'Bông tai cỏ 4 lá bạc ta đá 10mm lên tai siêu xinh', 'Pijama Thun Tăm Hình Gấu Tay Dài', '[ HÀNG MỸ] HỘP 30 VIÊN Pomulus – Trung hòa và giải trừ các gốc tự do các chất oxy hóa các chất độc và các chất sinh ung thư. Tăng cường sức mạnh của hệ miễn dịch chống lại các bệnh nhiễm khuẩn', 'Giày Dép Nam', 'Thời Trang Nữ', 'Balo & Túi Ví Nam', 'Thời Trang Trẻ Em', 'Đồ Chơi', 'Phụ Kiện & Trang Sức Nữ', 'Thiết Bị Điện Tử', 'Túi Ví Nữ', 'Điện Thoại & Phụ Kiện', 'Nhà Cửa & Đời Sống', 'Sức Khỏe', 'Xe Máy', 'Bách Hóa Online', 'Mẹ & Bé', 'Giày Dép Nữ']\n"
          ]
        }
      ]
    },
    {
      "cell_type": "code",
      "source": [
        "vector_db = Chroma.from_texts(product, embedding)\n",
        "retriever = vector_db.as_retriever(search_kwargs={\"k\":15})\n",
        "description = \"Use to look up values to filter on. Input is an approxiamte spelling of the proper noun, output is valid proper nouns. Use the noun most similar to the search\"\n",
        "retriever_tool = create_retriever_tool(\n",
        "    retriever,\n",
        "    description=description,\n",
        "    name=\"search_proper_nouns\"\n",
        ")"
      ],
      "metadata": {
        "id": "mtk5VbzGPft5"
      },
      "execution_count": 74,
      "outputs": []
    },
    {
      "cell_type": "code",
      "source": [
        "from langchain_core.prompts import ChatPromptTemplate, FewShotPromptTemplate, MessagesPlaceholder, PromptTemplate\n"
      ],
      "metadata": {
        "id": "2tTjfk2bCPpq"
      },
      "execution_count": 75,
      "outputs": []
    },
    {
      "cell_type": "code",
      "source": [
        "def get_answer(user_query):\n",
        "  top_k = 20\n",
        "  dialect = db.dialect\n",
        "\n",
        "  system_prefix = f\"\"\"\n",
        "  You are an agent designed to interact with a SQL database.\n",
        "Given an input question, create a syntactically correct {dialect} query to run, then look at the results of the query and return the answer.\n",
        "Unless the user specifies a specific number of examples they wish to obtain, always limit your query to at most {top_k} results.\n",
        "You can order the results by a relevant column to return the most interesting examples in the database.\n",
        "Never query for all the columns from a specific table, only ask for the relevant columns given the question.\n",
        "You have access to tools for interacting with the database.\n",
        "Only use the given tools. Only use the information returned by the tools to construct your final answer.\n",
        "You MUST double check your query before executing it. If you get an error while executing a query, rewrite the query and try again.\n",
        "\n",
        "DO NOT make any DML statements (INSERT, UPDATE, DELETE, DROP etc.) to the database.\n",
        "\n",
        "If the question does not seem related to the database, just return \"I don't know\" as the answer.\n",
        "\n",
        "Here are some examples of user inputs and their corresponding SQL queries:\n",
        "\"\"\"\n",
        "  # print(system_prefix)\n",
        "  ##fall_back\n",
        "  fallback_example = [\n",
        "    {\n",
        "        \"input\": \"Danh mục sản phẩm có những gì?\",\n",
        "        \"query\": \"\"\"\n",
        "        select id, name from categories\n",
        "        \"\"\"\n",
        "    }\n",
        "  ]\n",
        "\n",
        "  try:\n",
        "    safe_examples = example_selector.select_examples({\"input\" : user_query})\n",
        "    example_prompt = PromptTemplate.from_template(\"User input: {input}\\n SQL query: {query}\")\n",
        "    for ex in safe_examples:\n",
        "      if \"input\" not in ex or \"query\" not in ex:\n",
        "        raise ValueError(\"Every example must contain an input and query key.\")\n",
        "    few_shot_prompt = FewShotPromptTemplate(\n",
        "      example_selector=example_selector,\n",
        "      example_prompt=example_prompt,\n",
        "      prefix=system_prefix,\n",
        "      suffix=\"\",\n",
        "      input_variables=[\"input\"],\n",
        "    )\n",
        "\n",
        "    # print(few_shot_prompt)\n",
        "  except Exception as e:\n",
        "    # print(\"Fall_back\")\n",
        "    few_shot_prompt = FewShotPromptTemplate(\n",
        "      examples=fallback_example,\n",
        "      example_prompt=example_prompt,\n",
        "      prefix=system_prefix,\n",
        "      suffix=\"\",\n",
        "      input_variables=[\"input\"],\n",
        "    )\n",
        "\n",
        "  prompt_val = few_shot_prompt.format(input=user_query)\n",
        "\n",
        "  # print(prompt_val)\n",
        "\n",
        "  system_unique_name_prompt = f\"\"\"\n",
        "  If you need to filter on a proper noun, you must Always first look up the filter value using the \"search_proper_nouns\" tool!\n",
        "  You have to access to the following tables: {', '.join(db.get_usable_table_names())}\n",
        "\n",
        "  If the question doess not seem related to the database, just return \"I don't know\" as the answer.\n",
        "  \"\"\"\n",
        "  final_prompt = prompt_val + \"\\n\" + system_unique_name_prompt\n",
        "\n",
        "  full_prompt = ChatPromptTemplate.from_messages(\n",
        "      [\n",
        "          (\"system\", final_prompt),\n",
        "          (\"human\", \"{input}\"),\n",
        "          MessagesPlaceholder(\"agent_scratchpad\"),\n",
        "      ]\n",
        "  )\n",
        "\n",
        "  # print(final_prompt)\n",
        "\n",
        "  agent = create_sql_agent(\n",
        "      llm=llm,\n",
        "      db = db,\n",
        "      max_iterations=40,\n",
        "      extra_tools=[retriever_tool],\n",
        "      prompt=full_prompt,\n",
        "      agent_type=\"openai-tools\",\n",
        "      verbose=True\n",
        "  )\n",
        "\n",
        "  result = agent.invoke({\"input\": user_query})\n",
        "  return result['output']"
      ],
      "metadata": {
        "id": "XiBRquGyCUB9"
      },
      "execution_count": 76,
      "outputs": []
    },
    {
      "cell_type": "code",
      "source": [
        "result = get_answer(\"Giá của sản phẩm ' Lốp (Vỏ) xe đạp Deli'\")"
      ],
      "metadata": {
        "colab": {
          "base_uri": "https://localhost:8080/"
        },
        "id": "czUI61AZCde9",
        "outputId": "97df3f5e-25d8-4895-c919-afcfec1b64b2"
      },
      "execution_count": 77,
      "outputs": [
        {
          "output_type": "stream",
          "name": "stdout",
          "text": [
            "\n",
            "\n",
            "\u001b[1m> Entering new SQL Agent Executor chain...\u001b[0m\n",
            "\u001b[32;1m\u001b[1;3m\n",
            "Invoking: `search_proper_nouns` with `{'query': 'Lốp (Vỏ) xe đạp Deli'}`\n",
            "\n",
            "\n",
            "\u001b[0m\u001b[33;1m\u001b[1;3mBộ quần áo thể thao đi xe đạp SOUDAL LOTTO\n",
            "\n",
            "Bộ quần áo thể thao đi xe đạp SOUDAL LOTTO\n",
            "\n",
            "Bộ quần áo thể thao đi xe đạp SOUDAL LOTTO\n",
            "\n",
            "Bộ quần áo thể thao đi xe đạp SOUDAL LOTTO\n",
            "\n",
            "Xe Đạp\n",
            "\n",
            "Xe Đạp\n",
            "\n",
            "Xe Đạp\n",
            "\n",
            "Xe Đạp\n",
            "\n",
            "Tay cầm xe đạp TPR thiết kế cao su với vỏ bọc chống sốc cho xe MTB địa hình phi 2.2cm SZ-060 Mai Lee\n",
            "\n",
            "Tay cầm xe đạp TPR thiết kế cao su với vỏ bọc chống sốc cho xe MTB địa hình phi 2.2cm SZ-060 Mai Lee\n",
            "\n",
            "Tay cầm xe đạp TPR thiết kế cao su với vỏ bọc chống sốc cho xe MTB địa hình phi 2.2cm SZ-060 Mai Lee\n",
            "\n",
            "Tay cầm xe đạp TPR thiết kế cao su với vỏ bọc chống sốc cho xe MTB địa hình phi 2.2cm SZ-060 Mai Lee\n",
            "\n",
            "Thiết Bị Điện Tử\n",
            "\n",
            "Thiết Bị Điện Tử\n",
            "\n",
            "Thiết Bị Điện Tử\u001b[0m\u001b[32;1m\u001b[1;3mI am sorry, I cannot find the product 'Lốp (Vỏ) xe đạp Deli'. Would you like me to search for 'Xe Đạp'?\n",
            "\u001b[0m\n",
            "\n",
            "\u001b[1m> Finished chain.\u001b[0m\n"
          ]
        }
      ]
    },
    {
      "cell_type": "code",
      "source": [
        "result"
      ],
      "metadata": {
        "colab": {
          "base_uri": "https://localhost:8080/",
          "height": 35
        },
        "id": "2vwCWKDCHmrU",
        "outputId": "495c1ae4-d4aa-4e82-9c4c-28e213bb9dca"
      },
      "execution_count": 78,
      "outputs": [
        {
          "output_type": "execute_result",
          "data": {
            "text/plain": [
              "\"I am sorry, I cannot find the product 'Lốp (Vỏ) xe đạp Deli'. Would you like me to search for 'Xe Đạp'?\\n\""
            ],
            "application/vnd.google.colaboratory.intrinsic+json": {
              "type": "string"
            }
          },
          "metadata": {},
          "execution_count": 78
        }
      ]
    },
    {
      "cell_type": "markdown",
      "source": [
        "## UI"
      ],
      "metadata": {
        "id": "6D1Vs7h8HqpM"
      }
    },
    {
      "cell_type": "code",
      "source": [
        "def chat(user_message, history):\n",
        "  if history is None:\n",
        "    history = []\n",
        "\n",
        "  message = history.copy()\n",
        "\n",
        "  message.append({\"role\": \"user\", \"content\": user_message})\n",
        "\n",
        "  result = get_answer(str(message))\n",
        "\n",
        "  bot_reply = result\n",
        "\n",
        "  history.append({\"role\": \"user\", \"content\": user_message})\n",
        "  history.append({\"role\": \"assistant\", \"content\": bot_reply})\n",
        "\n",
        "  return \"\", history"
      ],
      "metadata": {
        "id": "6D1KWYNmHob2"
      },
      "execution_count": 79,
      "outputs": []
    },
    {
      "cell_type": "code",
      "source": [
        "import gradio as gr\n"
      ],
      "metadata": {
        "id": "tEDTBk9NHx7Q"
      },
      "execution_count": 80,
      "outputs": []
    },
    {
      "cell_type": "code",
      "source": [
        "with gr.Blocks() as demo:\n",
        "  gr.Markdown(\"Chatbot SQL\")\n",
        "  chatbot = gr.Chatbot(type = \"messages\")\n",
        "  with gr.Row():\n",
        "    txt = gr.Textbox(\n",
        "        show_label=False,\n",
        "        placeholder=\"Nhập tin nhắn...\",\n",
        "    )\n",
        "  txt.submit(chat, [txt, chatbot], [txt, chatbot])\n",
        "\n",
        "demo.launch(share=True)"
      ],
      "metadata": {
        "colab": {
          "base_uri": "https://localhost:8080/",
          "height": 611
        },
        "id": "D1ZJ475eH1m4",
        "outputId": "1a5d7f64-1b55-4776-b766-011358ddba5e"
      },
      "execution_count": 81,
      "outputs": [
        {
          "output_type": "stream",
          "name": "stdout",
          "text": [
            "Colab notebook detected. To show errors in colab notebook, set debug=True in launch()\n",
            "* Running on public URL: https://f19dc5934908c04fbf.gradio.live\n",
            "\n",
            "This share link expires in 1 week. For free permanent hosting and GPU upgrades, run `gradio deploy` from the terminal in the working directory to deploy to Hugging Face Spaces (https://huggingface.co/spaces)\n"
          ]
        },
        {
          "output_type": "display_data",
          "data": {
            "text/plain": [
              "<IPython.core.display.HTML object>"
            ],
            "text/html": [
              "<div><iframe src=\"https://f19dc5934908c04fbf.gradio.live\" width=\"100%\" height=\"500\" allow=\"autoplay; camera; microphone; clipboard-read; clipboard-write;\" frameborder=\"0\" allowfullscreen></iframe></div>"
            ]
          },
          "metadata": {}
        },
        {
          "output_type": "execute_result",
          "data": {
            "text/plain": []
          },
          "metadata": {},
          "execution_count": 81
        }
      ]
    }
  ]
}